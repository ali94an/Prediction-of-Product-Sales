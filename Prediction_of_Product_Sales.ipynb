{
  "nbformat": 4,
  "nbformat_minor": 0,
  "metadata": {
    "colab": {
      "provenance": [],
      "authorship_tag": "ABX9TyOrslFlk0AxkWfKmaQaZ5ia",
      "include_colab_link": true
    },
    "kernelspec": {
      "name": "python3",
      "display_name": "Python 3"
    },
    "language_info": {
      "name": "python"
    }
  },
  "cells": [
    {
      "cell_type": "markdown",
      "metadata": {
        "id": "view-in-github",
        "colab_type": "text"
      },
      "source": [
        "<a href=\"https://colab.research.google.com/github/ali94an/Prediction-of-Product-Sales/blob/main/Prediction_of_Product_Sales.ipynb\" target=\"_parent\"><img src=\"https://colab.research.google.com/assets/colab-badge.svg\" alt=\"Open In Colab\"/></a>"
      ]
    },
    {
      "cell_type": "markdown",
      "source": [
        "#Prediction of Product Sales\n",
        "- Author: Ali Abu Nimah"
      ],
      "metadata": {
        "id": "oHsbVEEyY6bP"
      }
    },
    {
      "cell_type": "markdown",
      "source": [
        "## Project Overview"
      ],
      "metadata": {
        "id": "wCy10DY5aFfJ"
      }
    },
    {
      "cell_type": "markdown",
      "source": [
        "## Load and Inspect Data"
      ],
      "metadata": {
        "id": "HkzHLyAWbL9F"
      }
    },
    {
      "cell_type": "code",
      "source": [],
      "metadata": {
        "id": "NWz-70hVZ7Nd"
      },
      "execution_count": null,
      "outputs": []
    },
    {
      "cell_type": "markdown",
      "source": [
        "## Clean Data"
      ],
      "metadata": {
        "id": "wHcqlDnKZ71-"
      }
    },
    {
      "cell_type": "code",
      "source": [],
      "metadata": {
        "id": "4RA2hQPobZqg"
      },
      "execution_count": null,
      "outputs": []
    },
    {
      "cell_type": "markdown",
      "source": [
        "## Exploratory Data Analysis"
      ],
      "metadata": {
        "id": "24XfAsSObaWa"
      }
    },
    {
      "cell_type": "code",
      "source": [],
      "metadata": {
        "id": "VVplJN28bfJL"
      },
      "execution_count": null,
      "outputs": []
    },
    {
      "cell_type": "markdown",
      "source": [
        "## Feature Inspection"
      ],
      "metadata": {
        "id": "Ty06-OPkbfS8"
      }
    },
    {
      "cell_type": "code",
      "source": [],
      "metadata": {
        "id": "80oz7z3vbhp7"
      },
      "execution_count": null,
      "outputs": []
    }
  ]
}